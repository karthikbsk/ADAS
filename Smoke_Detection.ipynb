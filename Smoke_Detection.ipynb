{
 "cells": [
  {
   "cell_type": "code",
   "execution_count": 7,
   "id": "9463a74e-daca-4881-9d2b-64f29b4219f5",
   "metadata": {},
   "outputs": [],
   "source": [
    "import torch"
   ]
  },
  {
   "cell_type": "code",
   "execution_count": 5,
   "id": "b12b66af-fc00-429a-8a3d-e581d547f3cc",
   "metadata": {},
   "outputs": [],
   "source": [
    "# Create the dataset.yaml file\n",
    "dataset_yaml = \"\"\"\n",
    "train: D:\\\\phone talking\\\\images  # Path to the image folder\n",
    "val: D:\\\\phone talking\\\\val_image    # Using the same dataset for validation\n",
    "nc: 1  # Number of classes (smoking)\n",
    "names: ['smoking']  # Class names\n",
    "\"\"\"\n",
    "\n",
    "# Write to file\n",
    "with open('dataset3.yaml', 'w') as f:\n",
    "    f.write(dataset_yaml)"
   ]
  },
  {
   "cell_type": "code",
   "execution_count": 3,
   "id": "42a06608-6cd2-4d54-8e93-d3fe50112f1f",
   "metadata": {},
   "outputs": [
    {
     "name": "stdout",
     "output_type": "stream",
     "text": [
      "All label files updated successfully.\n"
     ]
    }
   ],
   "source": [
    "import os\n",
    "\n",
    "# Define your label folder\n",
    "label_folder = r\"D:\\phone talking\\images\"\n",
    "\n",
    "# Iterate over all label files in the folder\n",
    "for filename in os.listdir(label_folder):\n",
    "    if filename.endswith(\".txt\"):  # Ensure it's a label file\n",
    "        label_file = os.path.join(label_folder, filename)\n",
    "        \n",
    "        # Open the label file and replace class ID 15 with 0\n",
    "        with open(label_file, 'r') as file:\n",
    "            lines = file.readlines()\n",
    "        \n",
    "        # Update the class ID in each line\n",
    "        new_lines = []\n",
    "        for line in lines:\n",
    "            parts = line.strip().split()\n",
    "            parts[0] = '0'  # Change class ID to 0\n",
    "            new_lines.append(\" \".join(parts))\n",
    "        \n",
    "        # Write the updated lines back to the file\n",
    "        with open(label_file, 'w') as file:\n",
    "            file.write(\"\\n\".join(new_lines))\n",
    "\n",
    "print(\"All label files updated successfully.\")"
   ]
  },
  {
   "cell_type": "code",
   "execution_count": 5,
   "id": "8bf52562-2748-4949-941d-00e8f2732b48",
   "metadata": {},
   "outputs": [
    {
     "name": "stdout",
     "output_type": "stream",
     "text": [
      "All label files updated successfully.\n"
     ]
    }
   ],
   "source": [
    "import os\n",
    "\n",
    "# Define your label folder\n",
    "label_folder = r\"D:\\smoke\\smoke_dataset\\Labels\\val\"\n",
    "\n",
    "# Iterate over all label files in the folder\n",
    "for filename in os.listdir(label_folder):\n",
    "    if filename.endswith(\".txt\"):  # Ensure it's a label file\n",
    "        label_file = os.path.join(label_folder, filename)\n",
    "        \n",
    "        # Open the label file and replace class ID 15 with 0\n",
    "        with open(label_file, 'r') as file:\n",
    "            lines = file.readlines()\n",
    "        \n",
    "        # Update the class ID in each line\n",
    "        new_lines = []\n",
    "        for line in lines:\n",
    "            parts = line.strip().split()\n",
    "            parts[0] = '0'  # Change class ID to 0\n",
    "            new_lines.append(\" \".join(parts))\n",
    "        \n",
    "        # Write the updated lines back to the file\n",
    "        with open(label_file, 'w') as file:\n",
    "            file.write(\"\\n\".join(new_lines))\n",
    "\n",
    "print(\"All label files updated successfully.\")"
   ]
  },
  {
   "cell_type": "code",
   "execution_count": 7,
   "id": "98af76fd-2f03-4adf-bea9-3ff7ecfdd7c4",
   "metadata": {},
   "outputs": [
    {
     "name": "stdout",
     "output_type": "stream",
     "text": [
      "All images have corresponding label files.\n"
     ]
    }
   ],
   "source": [
    "import os\n",
    "\n",
    "# Set the paths to your images and labels directories\n",
    "images_path = r'D:/smoke_dataset/Images'\n",
    "labels_path = r'D:/smoke_dataset/Labels'\n",
    "\n",
    "# List all image files and label files\n",
    "image_files = [f for f in os.listdir(images_path) if f.endswith('.jpg')]  # Adjust if images have a different extension\n",
    "label_files = [f for f in os.listdir(labels_path) if f.endswith('.txt')]\n",
    "\n",
    "# Check for images that don't have corresponding label files\n",
    "missing_labels = []\n",
    "for img in image_files:\n",
    "    label_file = os.path.splitext(img)[0] + '.txt'\n",
    "    if label_file not in label_files:\n",
    "        missing_labels.append(img)\n",
    "\n",
    "# Output the images that don't have labels\n",
    "if missing_labels:\n",
    "    print(\"Images with missing label files:\", missing_labels)\n",
    "else:\n",
    "    print(\"All images have corresponding label files.\")\n"
   ]
  },
  {
   "cell_type": "code",
   "execution_count": 9,
   "id": "1cf3f3c5-5dc7-46fc-a427-486237db8b75",
   "metadata": {},
   "outputs": [
    {
     "name": "stdout",
     "output_type": "stream",
     "text": [
      "No empty label files found.\n"
     ]
    }
   ],
   "source": [
    "empty_label_files = []\n",
    "for label_file in label_files:\n",
    "    file_path = os.path.join(labels_path, label_file)\n",
    "    if os.stat(file_path).st_size == 0:\n",
    "        empty_label_files.append(label_file)\n",
    "\n",
    "# Output the label files that are empty\n",
    "if empty_label_files:\n",
    "    print(\"Empty label files (no objects detected):\", empty_label_files)\n",
    "else:\n",
    "    print(\"No empty label files found.\")"
   ]
  },
  {
   "cell_type": "code",
   "execution_count": 9,
   "id": "9379a34c-927a-40cd-a506-0326135105bb",
   "metadata": {},
   "outputs": [],
   "source": [
    "import os\n",
    "os.environ['KMP_DUPLICATE_LIB_OK'] = 'TRUE'\n",
    "\n",
    "# Then run the training script as usual\n"
   ]
  },
  {
   "cell_type": "code",
   "execution_count": 13,
   "id": "6002667d-1a36-4939-b972-28f86716071f",
   "metadata": {},
   "outputs": [],
   "source": [
    "import os\n",
    "os.environ['OMP_NUM_THREADS'] = '1'\n"
   ]
  },
  {
   "cell_type": "code",
   "execution_count": 11,
   "id": "68ba4924-5e2f-4c2b-a95e-35d7c0360460",
   "metadata": {},
   "outputs": [
    {
     "name": "stderr",
     "output_type": "stream",
     "text": [
      "python: can't open file 'C:\\\\Users\\\\DELL\\\\intern_proj\\\\train.py': [Errno 2] No such file or directory\n"
     ]
    }
   ],
   "source": [
    "!python train.py --img 640 --batch 16 --epochs 50 --data D:/Cigar/dataset.yaml --weights yolov5s.pt"
   ]
  },
  {
   "cell_type": "code",
   "execution_count": null,
   "id": "773aa700-ba24-462a-ac1c-eb15bee78a13",
   "metadata": {},
   "outputs": [],
   "source": []
  }
 ],
 "metadata": {
  "kernelspec": {
   "display_name": "MyNewN",
   "language": "python",
   "name": "mynewn"
  },
  "language_info": {
   "codemirror_mode": {
    "name": "ipython",
    "version": 3
   },
   "file_extension": ".py",
   "mimetype": "text/x-python",
   "name": "python",
   "nbconvert_exporter": "python",
   "pygments_lexer": "ipython3",
   "version": "3.12.3"
  }
 },
 "nbformat": 4,
 "nbformat_minor": 5
}
